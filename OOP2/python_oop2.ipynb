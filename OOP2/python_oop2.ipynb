{
 "cells": [
  {
   "cell_type": "markdown",
   "metadata": {
    "pycharm": {
     "name": "#%% md\n"
    }
   },
   "source": [
    "# Factory pattern\n",
    "\n",
    "V OOP se často využívá tzv. Factory pattern - vytváříme objekty, které slouží k tvorbě jiných objektů. Vše lze abstrahovat - vytvoříme si základní Factory, ze které budou dědit konkrétní. Každá konkrétní factory pak bude vytvářet příslušné objekty. Ukažme si to na příkladu jednoduchého obchodu s nábytkem"
   ]
  },
  {
   "cell_type": "markdown",
   "metadata": {
    "pycharm": {
     "name": "#%% md\n"
    }
   },
   "source": [
    "Produkty které budeme zavádět mohou být z různých materiálů. Typ materiálu je výčtový typ.\n",
    "\n",
    "Dále si vytvoříme trídy produktů, každá třída bude odpovídat kategorii. Objekty těchto typů slouží zejména k uchovávání informací o jednotlivých produktech / materiálech - použijeme tzv. [dataclasses anotace](https://docs.python.org/3/library/dataclasses.html), které za nás vytvoří `__init__()`, `__repr__()` a další metody"
   ]
  },
  {
   "cell_type": "code",
   "execution_count": null,
   "metadata": {
    "pycharm": {
     "name": "#%%\n"
    }
   },
   "outputs": [],
   "source": [
    "from FIKEA.material import *"
   ]
  },
  {
   "cell_type": "code",
   "execution_count": null,
   "metadata": {
    "pycharm": {
     "name": "#%%\n"
    }
   },
   "outputs": [],
   "source": [
    "from FIKEA.products import *"
   ]
  },
  {
   "cell_type": "markdown",
   "metadata": {
    "pycharm": {
     "name": "#%% md\n"
    }
   },
   "source": [
    "Nyní máme základní produkty, chceme jimi populovat webovou stránku - potřebujeme vytvářet listy pro jednotlivé kategorie. K tomu nám budou sloužit továrny. Nejprve musíme specifikovat, co od továrny očekáváme. Nejprve specifikujeme továrnu na materiály"
   ]
  },
  {
   "cell_type": "code",
   "execution_count": null,
   "metadata": {
    "pycharm": {
     "name": "#%%\n"
    }
   },
   "outputs": [],
   "source": [
    "from FIKEA.material_factory import *"
   ]
  },
  {
   "cell_type": "markdown",
   "metadata": {
    "pycharm": {
     "name": "#%% md\n"
    }
   },
   "source": [
    "Jednotlivé produkty mohou mít stejný materiál, nechceme duplicitně vytvářet materiály. Využijeme tzv. repository pattern."
   ]
  },
  {
   "cell_type": "code",
   "execution_count": null,
   "metadata": {
    "pycharm": {
     "name": "#%%\n"
    }
   },
   "outputs": [],
   "source": [
    "from FIKEA.repositories import *\n"
   ]
  },
  {
   "cell_type": "markdown",
   "metadata": {
    "pycharm": {
     "name": "#%% md\n"
    }
   },
   "source": [
    "Tato repository může sloužit jak pro materiály, tak i pro produkty - je generická!"
   ]
  },
  {
   "cell_type": "code",
   "execution_count": null,
   "metadata": {
    "pycharm": {
     "name": "#%%\n"
    }
   },
   "outputs": [],
   "source": [
    "from FIKEA.product_factories import *"
   ]
  },
  {
   "cell_type": "markdown",
   "metadata": {
    "pycharm": {
     "name": "#%% md\n"
    }
   },
   "source": [
    "Nyní máme vše připraveno a můžeme začít tvořit samotný program. Vybudujeme si jednoduchý webový server, který načte produkty z JSONu a vytvoří listy pro jednotlivé kategorie."
   ]
  },
  {
   "cell_type": "code",
   "execution_count": null,
   "metadata": {
    "pycharm": {
     "name": "#%%\n"
    }
   },
   "outputs": [],
   "source": [
    "from typing import cast\n",
    "from FIKEA.view_controller import Response, route, get_page_menu, product_repository, not_found, bad_request, get_factories\n",
    "\n",
    "@route(\"\")\n",
    "def home(path_args: Sequence[str], query_args: Sequence[str]) -> Response:\n",
    "    if (len(path_args)) != 0:\n",
    "        return not_found()\n",
    "    return Response(200,\n",
    "                        {\"Content-type\": \"text/html; charset=utf-8\"},\n",
    "                        f\"\"\"\n",
    "                        <html>\n",
    "                        <head><title>FIKEA</title></head>\n",
    "                        <body>\n",
    "                        {get_page_menu()}\n",
    "                        <div style=\"display: flex; flex-direction: column\">\n",
    "                            <h1> Fake Ikea</h1>\n",
    "                            <p>\n",
    "                                Ten nejlepší nábytek!\n",
    "                            </p>\n",
    "                        </div>\n",
    "                        </body>\n",
    "                        </html>\n",
    "                        \"\"\")\n",
    "\n",
    "\n",
    "def parse_product_reduced(_product: Product) -> str:\n",
    "    return f\"\"\"\n",
    "        <div style=\"display: flex; flex-direction: column; margin-top: 8px;\">\n",
    "            <div><a href=\"/id/{_product.id}\">{_product.name}</a></div>\n",
    "            <div style=\"display: flex; flex-direction: row\">\n",
    "                <div style=\"margin-left: 4px; margin-right: 4px;\">\n",
    "                    {_product.description}\n",
    "                </div>\n",
    "                <div style=\"margin-left: 4px; margin-right: 4px;\">\n",
    "                    {_product.get_total_price():.{2}f} Kč\n",
    "                </div>\n",
    "            </div>\n",
    "        </div>\"\"\"\n",
    "\n",
    "\n",
    "def parse_product_full(_product: Product) -> str:\n",
    "    return f\"\"\"\n",
    "    <div style=\"display: flex; flex-direction: column\">\n",
    "            <h3>{_product.name}</h3>\n",
    "            <div style=\"display: flex; flex-direction: row\">\n",
    "                <div style=\"margin-left: 4px; margin-right: 4px;\">\n",
    "                    {_product.description}\n",
    "                </div>\n",
    "                <div style=\"margin-left: 4px; margin-right: 4px;\">\n",
    "                    {_product.get_total_price():.{2}f} Kč\n",
    "                </div>\n",
    "            </div>\n",
    "            <div style=\"margin-left: 4px; margin-right: 4px;\">\n",
    "                Materiál: {_product.material}\n",
    "            </div>\n",
    "            {\"\" if not isinstance(_product, Table) else f'<div style=\"margin-left: 4px; margin-right: 4px;\">Výška stolu: {cast(Table, _product).height}</div>'}\n",
    "        </div>\n",
    "    \"\"\"\n",
    "\n",
    "def single_category_products_page(category_name: str) -> Response:\n",
    "    if category_name not in get_factories():\n",
    "        return not_found(\"products\", category_name)\n",
    "\n",
    "    items = product_repository.get_all(lambda _x: isinstance(_x, get_factories()[category_name].get_created_type()))\n",
    "\n",
    "    items_body = \"\".join(list(map(parse_product_reduced, items)))\n",
    "\n",
    "    return Response(200,\n",
    "                    {\"Content-type\": \"text/html; charset=utf-8\"},\n",
    "                    f\"\"\"\n",
    "                    <html>\n",
    "                    <head><title>Produkty - {get_factories()[category_name].get_category_name()}</title></head>\n",
    "                    <body>\n",
    "                    {get_page_menu()}\n",
    "                    {items_body}\n",
    "                    </body>\n",
    "                    </html>\n",
    "                    \"\"\")\n",
    "\n",
    "\n",
    "def all_products_page() -> Response:\n",
    "    items = product_repository.get_all(lambda _x: True)\n",
    "\n",
    "    items_body = \"\".join(list(map(parse_product_reduced, items)))\n",
    "\n",
    "    return Response(200,\n",
    "                    {\"Content-type\": \"text/html; charset=utf-8\"},\n",
    "                    f\"\"\"\n",
    "                    <html>\n",
    "                    <head><title>Produkty</title></head>\n",
    "                    <body>\n",
    "                    {get_page_menu()}\n",
    "                    {items_body}\n",
    "                    </body>\n",
    "                    </html>\n",
    "                    \"\"\")\n",
    "\n",
    "\n",
    "@route(\"products\")\n",
    "def products_page(path_args: Sequence[str], query_args: Sequence[str]) -> Response:\n",
    "    if len(path_args) == 0 or path_args[0] == '':\n",
    "        return all_products_page()\n",
    "    if len(path_args) > 1:\n",
    "        return bad_request(path_args, query_args)\n",
    "    return single_category_products_page(path_args[0])\n",
    "\n",
    "\n",
    "@route(\"id\")\n",
    "def single_product_page(path_args: Sequence[str], query_args: Sequence[str]) -> Response:\n",
    "    if len(path_args) != 1:\n",
    "        return bad_request(path_args, query_args)\n",
    "\n",
    "    try:\n",
    "        item_id = int(path_args[0])\n",
    "    except ValueError:\n",
    "        return bad_request(path_args, query_args)\n",
    "\n",
    "    product = product_repository.get_by_id_or_default(item_id)\n",
    "\n",
    "    if product is None:\n",
    "        return not_found(path_args, query_args)\n",
    "\n",
    "    product_body = parse_product_full(product)\n",
    "\n",
    "    return Response(200,\n",
    "                    {\"Content-type\": \"text/html; charset=utf-8\"},\n",
    "                    f\"\"\"\n",
    "                    <html>\n",
    "                    <head><title>Produkty</title></head>\n",
    "                    <body>\n",
    "                    {get_page_menu()}\n",
    "                    {product_body}\n",
    "                    </body>\n",
    "                    </html>\n",
    "                    \"\"\"\n",
    "                    )"
   ]
  },
  {
   "cell_type": "code",
   "execution_count": null,
   "metadata": {
    "pycharm": {
     "name": "#%%\n"
    }
   },
   "outputs": [],
   "source": [
    "from http.server import BaseHTTPRequestHandler, HTTPServer\n",
    "from FIKEA.view_controller import handle_request\n",
    "\n",
    "class IKEAServerHandler(BaseHTTPRequestHandler):\n",
    "\n",
    "    def do_GET(self):\n",
    "\n",
    "        response_body = handle_request(self)\n",
    "\n",
    "        self.send_response(response_body.status_code)\n",
    "\n",
    "        for h_n, h_v in response_body.headers.items():\n",
    "            self.send_header(h_n, h_v)\n",
    "        self.end_headers()\n",
    "\n",
    "        self.wfile.write(bytes(response_body.body, \"utf-8\"))"
   ]
  },
  {
   "cell_type": "markdown",
   "metadata": {
    "pycharm": {
     "name": "#%% md\n"
    }
   },
   "source": [
    "A nyní web server spustíme"
   ]
  },
  {
   "cell_type": "code",
   "execution_count": null,
   "metadata": {
    "pycharm": {
     "name": "#%%\n"
    }
   },
   "outputs": [],
   "source": [
    "from FIKEA.view_controller import initialize_repositories, register_factory\n",
    "\n",
    "register_factory(\"chairs\", ChairFactory)\n",
    "register_factory(\"tables\", TableFactory)\n",
    "register_factory(\"beds\", BedFactory)\n",
    "register_factory(\"grates\", GrateFactory)\n",
    "register_factory(\"others\", OtherProductFactory)\n",
    "initialize_repositories()\n",
    "\n",
    "webServer = HTTPServer((\"localhost\", 8005), IKEAServerHandler)\n",
    "\n",
    "try:\n",
    "    webServer.serve_forever()\n",
    "except KeyboardInterrupt:\n",
    "    pass\n",
    "\n",
    "webServer.server_close()\n",
    "print(\"Server stopped.\")"
   ]
  },
  {
   "cell_type": "markdown",
   "metadata": {
    "pycharm": {
     "name": "#%% md\n"
    }
   },
   "source": [
    "Máme naimplementovaný jednoduchý HTTP server, který nám vypisuje naše produkty! Můžete zkusit podle typu (třídy) produktu nechat vypsat jeho specifické vlastnosti (např. šířku a hloubku pro náhledy stolů).\n",
    "\n",
    "Vraťme se ale na teoretičtější úroveň - hierarchie typů a abstraktní třídy nám dávají poměrně velkou volnost v možnostech návrhů software, jsou s tím ale také spojené jisté problémy, jako např. takzvaný Diamond Problem"
   ]
  },
  {
   "cell_type": "code",
   "execution_count": null,
   "metadata": {
    "pycharm": {
     "name": "#%%\n"
    }
   },
   "outputs": [],
   "source": [
    "class A:\n",
    "    x = 10\n",
    "    def a(self):\n",
    "        print(f\"A: {self.x}\")\n",
    "\n",
    "class B0(A):\n",
    "    x = 20\n",
    "    def a(self):\n",
    "        print(f\"B: {self.x}\")\n",
    "\n",
    "class B(B0):\n",
    "    pass\n",
    "\n",
    "class C(A):\n",
    "    x = 30\n",
    "    def a(self):\n",
    "        print(f\"C: {self.x}\")\n",
    "\n",
    "class D(B, C):\n",
    "    pass\n",
    "\n",
    "d = D()\n",
    "d.a()"
   ]
  },
  {
   "cell_type": "markdown",
   "metadata": {
    "pycharm": {
     "name": "#%% md\n"
    }
   },
   "source": [
    "# Magické metody (Dunder methods)\n",
    "\n",
    "Jako poslední si ukážeme magické metody - Python umožňuje v rámci tříd definovat metody, které pak jazyk interně používá"
   ]
  },
  {
   "cell_type": "code",
   "execution_count": null,
   "metadata": {
    "pycharm": {
     "name": "#%%\n"
    }
   },
   "outputs": [],
   "source": [
    "class Vector:\n",
    "    def __init__(self, *nums: float):\n",
    "        self.items = nums\n",
    "\n",
    "    def __len__(self):\n",
    "        return len(self.items)\n",
    "\n",
    "    def __add__(self, other):\n",
    "        if not isinstance(other, Vector):\n",
    "            return NotImplemented\n",
    "        if len(self) != len(other):\n",
    "            return NotImplemented\n",
    "        _x = [i + j for i, j in zip(self.items, other.items)]\n",
    "        return Vector(*_x)\n",
    "\n",
    "    def __eq__(self, other):\n",
    "        if not isinstance(other, Vector):\n",
    "            return NotImplemented\n",
    "        if len(self)!= len(other):\n",
    "            return NotImplemented\n",
    "        for _x, _y in zip(self.items, other.items):\n",
    "            if _x != _y:\n",
    "                return False\n",
    "        return True\n",
    "\n",
    "    # Porovnání podle normy vektorů\n",
    "    def __le__(self, other):\n",
    "        if len(self)!= len(other):\n",
    "            return NotImplemented\n",
    "        return sum(self.items) <= sum(other.items)\n",
    "\n",
    "    # Porovnání podle  součtové normy vektorů\n",
    "    def __lt__(self, other):\n",
    "        if len(self)!= len(other):\n",
    "            return NotImplemented\n",
    "        return sum(self.items) < sum(other.items)\n",
    "\n",
    "    # Porovnání podle  součtové normy vektorů\n",
    "    def __ge__(self, other):\n",
    "        if len(self)!= len(other):\n",
    "            return NotImplemented\n",
    "        return sum(self.items) >= sum(other.items)\n",
    "\n",
    "    # Porovnání podle součtové normy vektorů\n",
    "    def __gt__(self, other):\n",
    "        if len(self)!= len(other):\n",
    "            return NotImplemented\n",
    "        return sum(self.items) > sum(other.items)\n",
    "\n",
    "    def __str__(self):\n",
    "        return f\"({', '.join(list(map(str, self.items)))})\"\n",
    "\n",
    "    def __neg__(self):\n",
    "        return Vector(*tuple(map(lambda _x: -_x, self.items)))\n",
    "\n",
    "    # Součtová norma\n",
    "    def __abs__(self):\n",
    "        return sum(self.items)\n",
    "\n",
    "    # \"Indexátor\"\n",
    "    def __getitem__(self, item):\n",
    "        return self.items[item]\n",
    "\n",
    "\n",
    "if __name__ == \"__main__\":\n",
    "    a = Vector(1, 2, 3)\n",
    "    b = Vector(1, 1, 1)\n",
    "\n",
    "    c = a + b\n",
    "    d = -c\n",
    "    print(c)\n",
    "    print(d)\n",
    "    print(c > a)\n",
    "    print(c < a)\n",
    "    print(c == c)\n",
    "    print(c == a)\n",
    "    print(d[1])"
   ]
  },
  {
   "cell_type": "markdown",
   "metadata": {},
   "source": [
    "Pokud chceme vypsat které magické metody daný objekt implementuje, můžeme použít funkci `dir()`"
   ]
  },
  {
   "cell_type": "code",
   "execution_count": null,
   "metadata": {
    "pycharm": {
     "name": "#%%\n"
    }
   },
   "outputs": [],
   "source": [
    "dir(a)"
   ]
  },
  {
   "cell_type": "markdown",
   "metadata": {
    "pycharm": {
     "name": "#%% md\n"
    }
   },
   "source": [
    "Zkusme pomocí magické metody `__call__`, která umožnuje volat na instance tříd vytvořit delegátový typ"
   ]
  },
  {
   "cell_type": "code",
   "execution_count": null,
   "metadata": {
    "pycharm": {
     "name": "#%%\n"
    }
   },
   "outputs": [],
   "source": [
    "from typing import Tuple, TypeVar, Generic, Callable, Sequence\n",
    "\n",
    "TArg = TypeVar('TArg')\n",
    "TOut = TypeVar('TOut')\n",
    "\n",
    "class Delegate(Generic[TArg, TOut]):\n",
    "    def __init__(self, *function: Callable[[TArg], TOut]):\n",
    "        self.function = [*function]\n",
    "\n",
    "    def __add__(self, other):\n",
    "        if callable(other):\n",
    "            return Delegate(*self.function, other)\n",
    "\n",
    "\n",
    "    def __sub__(self, other):\n",
    "        if other in self.function:\n",
    "            new_function = self.function[:]\n",
    "            new_function.remove(other)\n",
    "            return Delegate(*new_function)\n",
    "        return NotImplemented\n",
    "\n",
    "    def __call__(self, *args, **kwargs):\n",
    "        ret = None\n",
    "        for func in self.function:\n",
    "            ret = func(*args, **kwargs)\n",
    "\n",
    "        return ret\n",
    "\n",
    "def delegate_func1(_x: int, _y: int) -> int:\n",
    "    res = _x + _y\n",
    "    print(res)\n",
    "    return res\n",
    "\n",
    "def delegate_func2(_x: int, _y: int) -> int:\n",
    "    res = _x - _y\n",
    "    print(res)\n",
    "    return res\n",
    "\n",
    "a = Delegate[Tuple[int], int](delegate_func1)\n",
    "\n",
    "a += delegate_func2\n",
    "\n",
    "a(1, 2)\n",
    "\n",
    "a -= delegate_func1\n",
    "print(\"Removed...\")\n",
    "\n",
    "x = a(1, 2)\n"
   ]
  },
  {
   "cell_type": "markdown",
   "metadata": {
    "collapsed": false,
    "pycharm": {
     "name": "#%% md\n"
    }
   },
   "source": [
    "Dalším příkladem může být kontextový manažer pomocí metod `__enter__` a `__exit__`. Vytvořme si například třídu Account, která bude simulovat transakce na účet. Pro provedení transakcí budeme používat kontext transakce, který nám umožní \"rollback\" v případě že transakce nelze provést."
   ]
  },
  {
   "cell_type": "code",
   "execution_count": null,
   "metadata": {
    "collapsed": false,
    "pycharm": {
     "name": "#%%\n"
    }
   },
   "outputs": [],
   "source": [
    "from functools import total_ordering\n",
    "\n",
    "@total_ordering\n",
    "class Account:\n",
    "    def __init__(self, owner: str, amount: int = 0):\n",
    "        self.owner = owner\n",
    "        self.amount = amount\n",
    "        self.__transaction_list = []\n",
    "\n",
    "    def add_transaction(self, amount):\n",
    "        if not isinstance(amount, int):\n",
    "            raise ValueError\n",
    "        if amount == 0:\n",
    "            raise ValueError\n",
    "        self.amount += amount\n",
    "        self.__transaction_list.append(amount)\n",
    "\n",
    "    def __len__(self):\n",
    "        return len(self.__transaction_list)\n",
    "\n",
    "    def __getitem__(self, item):\n",
    "        return self.__transaction_list[item]\n",
    "\n",
    "    def __eq__(self, other):\n",
    "        if not isinstance(other, Account):\n",
    "            return NotImplemented\n",
    "        return self.amount == other.amount\n",
    "\n",
    "    def __lt__(self, other):\n",
    "        if not isinstance(other, Account):\n",
    "            return NotImplemented\n",
    "        return self.amount < other.amount\n",
    "\n",
    "    @property\n",
    "    def incomming_transactions(self) -> Sequence[int]:\n",
    "        return [_x for _x in self.__transaction_list if _x > 0]\n",
    "\n",
    "    @property\n",
    "    def outgoing_transactions(self) -> Sequence[int]:\n",
    "        return [_x for _x in self.__transaction_list if _x < 0]\n",
    "\n",
    "    @property\n",
    "    def transactions(self) -> Sequence[int]:\n",
    "        return self.__transaction_list[:]\n",
    "\n",
    "    def __enter__(self):\n",
    "        self.__transaction_list_copy = self.__transaction_list[:]\n",
    "        self.__amount_copy = self.amount\n",
    "        return self\n",
    "\n",
    "    def __exit__(self, exc_type, exc_val, exc_tb):\n",
    "        if exc_type:\n",
    "            self.__transaction_list = self.__transaction_list_copy[:]\n",
    "            self.amount = self.__amount_copy\n",
    "            del self.__transaction_list_copy\n",
    "            del self.__amount_copy\n",
    "            print (\"Rolling back transactions...\")\n",
    "            return\n",
    "        print(\"Transactions OK\")\n",
    "\n",
    "\n",
    "\n",
    "acc = Account(\"Alice\", 20)\n",
    "try:\n",
    "    with acc as a:\n",
    "        a.add_transaction(-21)\n",
    "        if a.amount < 0:\n",
    "            raise ValueError(\"Debt detected!\")\n",
    "except ValueError as e:\n",
    "    print(e)\n",
    "\n",
    "print(a.transactions)\n",
    "print(a.amount)"
   ]
  }
 ],
 "metadata": {
  "kernelspec": {
   "display_name": "Python 3 (ipykernel)",
   "language": "python",
   "name": "python3"
  },
  "language_info": {
   "codemirror_mode": {
    "name": "ipython",
    "version": 3
   },
   "file_extension": ".py",
   "mimetype": "text/x-python",
   "name": "python",
   "nbconvert_exporter": "python",
   "pygments_lexer": "ipython3",
   "version": "3.9.5"
  },
  "vscode": {
   "interpreter": {
    "hash": "397704579725e15f5c7cb49fe5f0341eb7531c82d19f2c29d197e8b64ab5776b"
   }
  }
 },
 "nbformat": 4,
 "nbformat_minor": 1
}
